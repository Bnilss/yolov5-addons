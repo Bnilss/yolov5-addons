{
 "cells": [
  {
   "cell_type": "code",
   "execution_count": 1,
   "id": "floral-irish",
   "metadata": {},
   "outputs": [],
   "source": [
    "from addons import Yolov5"
   ]
  },
  {
   "cell_type": "code",
   "execution_count": 5,
   "id": "junior-naples",
   "metadata": {},
   "outputs": [],
   "source": [
    "import sys\n",
    "import matplotlib.pyplot as plt"
   ]
  },
  {
   "cell_type": "code",
   "execution_count": 3,
   "id": "sustainable-composer",
   "metadata": {},
   "outputs": [],
   "source": [
    "sys.path.append(\"../\")"
   ]
  },
  {
   "cell_type": "code",
   "execution_count": 4,
   "id": "faced-modern",
   "metadata": {},
   "outputs": [],
   "source": [
    "from utilities.core import load_img"
   ]
  },
  {
   "cell_type": "code",
   "execution_count": 6,
   "id": "cooperative-peeing",
   "metadata": {},
   "outputs": [],
   "source": [
    "url = \"https://prod-images-static.radiopaedia.org/images/903193/06eb041ff51e064424ba056806564a_jumbo.jpg\"\n",
    "img = load_img(url)"
   ]
  },
  {
   "cell_type": "code",
   "execution_count": 7,
   "id": "sensitive-screw",
   "metadata": {},
   "outputs": [
    {
     "data": {
      "text/plain": [
       "(1024, 1024, 3)"
      ]
     },
     "execution_count": 7,
     "metadata": {},
     "output_type": "execute_result"
    }
   ],
   "source": [
    "yolo = Yolov5()"
   ]
  }
 ],
 "metadata": {
  "kernelspec": {
   "display_name": "Python 3",
   "language": "python",
   "name": "python3"
  },
  "language_info": {
   "codemirror_mode": {
    "name": "ipython",
    "version": 3
   },
   "file_extension": ".py",
   "mimetype": "text/x-python",
   "name": "python",
   "nbconvert_exporter": "python",
   "pygments_lexer": "ipython3",
   "version": "3.8.5"
  }
 },
 "nbformat": 4,
 "nbformat_minor": 5
}
